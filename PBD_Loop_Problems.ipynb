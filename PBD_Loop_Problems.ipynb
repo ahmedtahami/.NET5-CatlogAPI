{
  "nbformat": 4,
  "nbformat_minor": 0,
  "metadata": {
    "colab": {
      "name": "PBD Loop Problems.ipynb",
      "provenance": [],
      "collapsed_sections": [],
      "authorship_tag": "ABX9TyNdG3B2bFfsNP/bFmb2qv84",
      "include_colab_link": true
    },
    "kernelspec": {
      "name": "python3",
      "display_name": "Python 3"
    },
    "language_info": {
      "name": "python"
    }
  },
  "cells": [
    {
      "cell_type": "markdown",
      "metadata": {
        "id": "view-in-github",
        "colab_type": "text"
      },
      "source": [
        "<a href=\"https://colab.research.google.com/github/ahmedtahami/.NET5-CatlogAPI/blob/master/PBD_Loop_Problems.ipynb\" target=\"_parent\"><img src=\"https://colab.research.google.com/assets/colab-badge.svg\" alt=\"Open In Colab\"/></a>"
      ]
    },
    {
      "cell_type": "markdown",
      "source": [
        "# Question 1 – Characters for the ASCII Codes\n",
        "**Write a program that uses a loop to display the characters for each ASCII code 32 through 127. Display 16 characters on each line\n",
        "with one space between characters.**"
      ],
      "metadata": {
        "id": "MAjKQYOfiF6k"
      }
    },
    {
      "cell_type": "code",
      "execution_count": 13,
      "metadata": {
        "colab": {
          "base_uri": "https://localhost:8080/"
        },
        "id": "_ZqrYIeNiAqs",
        "outputId": "29dcd5ed-c3f8-4aa7-c8c3-ccda9e767be2"
      },
      "outputs": [
        {
          "output_type": "stream",
          "name": "stdout",
          "text": [
            "  ! \" # $ % & ' ( ) * + , - . / \n",
            "\n",
            "0 1 2 3 4 5 6 7 8 9 : ; < = > ? \n",
            "\n",
            "@ A B C D E F G H I J K L M N O \n",
            "\n",
            "P Q R S T U V W X Y Z [ \\ ] ^ _ \n",
            "\n",
            "` a b c d e f g h i j k l m n o \n",
            "\n",
            "p q r s t u v w x y z { | } ~ "
          ]
        }
      ],
      "source": [
        "lineCounter = 0\n",
        "for i in range(32, 127):\n",
        "  if lineCounter == 16:\n",
        "    lineCounter = 0\n",
        "    print('\\n')\n",
        "  \n",
        "  print(chr(i), end=\" \")\n",
        "  lineCounter += 1"
      ]
    },
    {
      "cell_type": "markdown",
      "source": [
        "# Question 2 – Sum of Numbers\n",
        "**Write a program that asks the user for a positive integer value. The program should use a loop to get the sum of all the integers\n",
        "from 1 up to the number entered. For example, if the user enters 50, the loop will find the sum of 1, 2, 3, 4, ... 50.\n",
        "Input Validation: Do not accept an input that is less than 1**"
      ],
      "metadata": {
        "id": "dv6Ps4tUkPtx"
      }
    },
    {
      "cell_type": "code",
      "source": [
        "num=sum = 0\n",
        "while(True):\n",
        "  num = int(input(\"Please Enter A Postive Number Greater Than 1 : \"))\n",
        "  if num >0:\n",
        "    break\n",
        "  else:\n",
        "    print(\"Invalid Input\")\n",
        "    continue\n",
        "\n",
        "msg = \"Sum of range from 1 to {} is = {}\"\n",
        "for i in range(1, num+1):\n",
        "    sum += i  \n",
        "    \n",
        "print(msg.format(num, sum))"
      ],
      "metadata": {
        "colab": {
          "base_uri": "https://localhost:8080/"
        },
        "id": "Wr8P1iNEkHpk",
        "outputId": "c5de7cf1-22c2-4c52-a1b2-da5a16c44dac"
      },
      "execution_count": 22,
      "outputs": [
        {
          "output_type": "stream",
          "name": "stdout",
          "text": [
            "Please Enter A Postive Number Greater Than 1 : -9\n",
            "Invalid Input\n",
            "Please Enter A Postive Number Greater Than 1 : 5\n",
            "Sum of range from 1 to 5 is = 15\n"
          ]
        }
      ]
    },
    {
      "cell_type": "code",
      "source": [
        ""
      ],
      "metadata": {
        "id": "cYHyjYy4rf22"
      },
      "execution_count": null,
      "outputs": []
    },
    {
      "cell_type": "markdown",
      "source": [
        "# Question 3 – Distance Traveled\n",
        "**The distance a vehicle travels can be calculated as follows:\n",
        "distance = speed * time\n",
        "For example, if a train travels 40 miles per hour for 3 hours, the distance traveled is 120 miles.\n",
        "Write a program that asks the user for the speed of a vehicle (in miles per hour) and how many hours it has traveled. It\n",
        "should then use a loop to display the total distance traveled at the end of each hour of that time period. Here is an example of\n",
        "the output:\n",
        "What is the speed of the vehicle in mph? 40\n",
        "How many hours has it traveled? 3  \n",
        "Input Validation: Do not accept a negative number for speed and do not accept any value less than one for time traveled**"
      ],
      "metadata": {
        "id": "7dBLk9oHn4Dk"
      }
    },
    {
      "cell_type": "code",
      "source": [
        "distance=speed=time=0\n",
        "while(True):\n",
        "  speed=int(input(\"Please Enter Speed (MPH) : \"))\n",
        "  time=int(input(\"Please Enter Time (Hours): \"))\n",
        "  if(speed > 0 and time > 0):\n",
        "    break\n",
        "  else:\n",
        "    print(\"Invalid Input\")\n",
        "    continue\n",
        "\n",
        "print(\"Hours-Distance Traveld\", end=\"\\n\")\n",
        "for t in range(1, time+1):\n",
        "   distance = speed * t\n",
        "   print(t, \"-\" , distance, end=\"\\n\")\n"
      ],
      "metadata": {
        "colab": {
          "base_uri": "https://localhost:8080/"
        },
        "id": "SCfNK1UCmGAS",
        "outputId": "bb3dcfa1-346c-430e-8f1b-01bf87e01f97"
      },
      "execution_count": 23,
      "outputs": [
        {
          "output_type": "stream",
          "name": "stdout",
          "text": [
            "Please Enter Speed (MPH) : 40\n",
            "Please Enter Time (Hours): 3\n",
            "Hours-Distance Traveld\n",
            "1 - 40\n",
            "2 - 80\n",
            "3 - 120\n"
          ]
        }
      ]
    },
    {
      "cell_type": "markdown",
      "source": [
        "# Question 4 – Celsius to Fahrenheit Table\n",
        "**You were asked to write a program that converts a Celsius temperature to Fahrenheit and Kelvin . Modify that program so it uses\n",
        "a loop to display a table of the Celsius temperatures from 0 to 20 and their Kelvin and Fahrenheit equivalents.**"
      ],
      "metadata": {
        "id": "3aKTId-1uhZ-"
      }
    },
    {
      "cell_type": "code",
      "source": [
        "print(\"Celcius\\t\\tFahrenheit\\tKelvin\")\n",
        "stringToPrint=\"{}\\t\\t{}\\t\\t{}\"\n",
        "for c in range(0,21):\n",
        "  print(stringToPrint.format(c, (c * 9/5) + 32, c + 273.15)) "
      ],
      "metadata": {
        "colab": {
          "base_uri": "https://localhost:8080/"
        },
        "id": "b0CY0DXguFZT",
        "outputId": "cd9d4cd9-a52a-40d0-8a1c-cab3920a0ef2"
      },
      "execution_count": 29,
      "outputs": [
        {
          "output_type": "stream",
          "name": "stdout",
          "text": [
            "Celcius\t\tFahrenheit\tKelvin\n",
            "0\t\t32.0\t\t273.15\n",
            "1\t\t33.8\t\t274.15\n",
            "2\t\t35.6\t\t275.15\n",
            "3\t\t37.4\t\t276.15\n",
            "4\t\t39.2\t\t277.15\n",
            "5\t\t41.0\t\t278.15\n",
            "6\t\t42.8\t\t279.15\n",
            "7\t\t44.6\t\t280.15\n",
            "8\t\t46.4\t\t281.15\n",
            "9\t\t48.2\t\t282.15\n",
            "10\t\t50.0\t\t283.15\n",
            "11\t\t51.8\t\t284.15\n",
            "12\t\t53.6\t\t285.15\n",
            "13\t\t55.4\t\t286.15\n",
            "14\t\t57.2\t\t287.15\n",
            "15\t\t59.0\t\t288.15\n",
            "16\t\t60.8\t\t289.15\n",
            "17\t\t62.6\t\t290.15\n",
            "18\t\t64.4\t\t291.15\n",
            "19\t\t66.2\t\t292.15\n",
            "20\t\t68.0\t\t293.15\n"
          ]
        }
      ]
    },
    {
      "cell_type": "code",
      "source": [
        ""
      ],
      "metadata": {
        "id": "vkCXTlC5wNIY"
      },
      "execution_count": null,
      "outputs": []
    },
    {
      "cell_type": "code",
      "source": [
        ""
      ],
      "metadata": {
        "id": "d6lOtamvv_is"
      },
      "execution_count": null,
      "outputs": []
    },
    {
      "cell_type": "code",
      "source": [
        ""
      ],
      "metadata": {
        "id": "gI4CPl5Tv1-N"
      },
      "execution_count": null,
      "outputs": []
    },
    {
      "cell_type": "code",
      "source": [
        ""
      ],
      "metadata": {
        "id": "V9Msgf9XvycQ"
      },
      "execution_count": null,
      "outputs": []
    },
    {
      "cell_type": "code",
      "source": [
        ""
      ],
      "metadata": {
        "id": "yCXmhlI_vAdf"
      },
      "execution_count": null,
      "outputs": []
    },
    {
      "cell_type": "code",
      "source": [
        ""
      ],
      "metadata": {
        "id": "M_MfyleTu-Sv"
      },
      "execution_count": null,
      "outputs": []
    },
    {
      "cell_type": "code",
      "source": [
        ""
      ],
      "metadata": {
        "id": "0bqUm6rAqEij"
      },
      "execution_count": null,
      "outputs": []
    },
    {
      "cell_type": "code",
      "source": [
        ""
      ],
      "metadata": {
        "id": "-cGuMfhsp7N9"
      },
      "execution_count": null,
      "outputs": []
    },
    {
      "cell_type": "code",
      "source": [
        ""
      ],
      "metadata": {
        "id": "ZLqPPwoKl96k"
      },
      "execution_count": null,
      "outputs": []
    },
    {
      "cell_type": "code",
      "source": [
        ""
      ],
      "metadata": {
        "id": "pe03vhTrlqCu"
      },
      "execution_count": null,
      "outputs": []
    },
    {
      "cell_type": "code",
      "source": [
        ""
      ],
      "metadata": {
        "id": "lgiKwrm6ldNI"
      },
      "execution_count": null,
      "outputs": []
    },
    {
      "cell_type": "code",
      "source": [
        ""
      ],
      "metadata": {
        "id": "OypUhhF_lU_7"
      },
      "execution_count": null,
      "outputs": []
    },
    {
      "cell_type": "code",
      "source": [
        ""
      ],
      "metadata": {
        "id": "qioPGHovlR6E"
      },
      "execution_count": null,
      "outputs": []
    },
    {
      "cell_type": "code",
      "source": [
        ""
      ],
      "metadata": {
        "id": "B1ix1nmaj7-7"
      },
      "execution_count": null,
      "outputs": []
    },
    {
      "cell_type": "code",
      "source": [
        ""
      ],
      "metadata": {
        "id": "sMy6xfKNjGZ8"
      },
      "execution_count": null,
      "outputs": []
    },
    {
      "cell_type": "code",
      "source": [
        ""
      ],
      "metadata": {
        "id": "a6ZRxIhjjDXv"
      },
      "execution_count": null,
      "outputs": []
    },
    {
      "cell_type": "code",
      "source": [
        ""
      ],
      "metadata": {
        "id": "P6RK5cWPjBjI"
      },
      "execution_count": null,
      "outputs": []
    },
    {
      "cell_type": "code",
      "source": [
        ""
      ],
      "metadata": {
        "id": "XEcfJkqvi0DP"
      },
      "execution_count": null,
      "outputs": []
    },
    {
      "cell_type": "code",
      "source": [
        ""
      ],
      "metadata": {
        "id": "qlTMBxBYiyAh"
      },
      "execution_count": null,
      "outputs": []
    },
    {
      "cell_type": "code",
      "source": [
        ""
      ],
      "metadata": {
        "id": "6S1RhnIDio6c"
      },
      "execution_count": null,
      "outputs": []
    },
    {
      "cell_type": "code",
      "source": [
        ""
      ],
      "metadata": {
        "id": "ufZ74Sf1if0M"
      },
      "execution_count": null,
      "outputs": []
    },
    {
      "cell_type": "code",
      "source": [
        ""
      ],
      "metadata": {
        "id": "bEYe2bEfiQG0"
      },
      "execution_count": null,
      "outputs": []
    }
  ]
}